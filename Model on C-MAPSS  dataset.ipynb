{
 "cells": [
  {
   "cell_type": "markdown",
   "metadata": {},
   "source": [
    "# INFO about the Data\n",
    "\n",
    "The data sets used in this example, along with all necessary information such as the list of related worls, are available in the [NASA Prognostics data archive](https://data.nasa.gov/dataset/Turbofan-engine-degradation-simulation-data-set/vrks-gjie). Original data is available with this [link](http://ti.arc.nasa.gov/tech/dash/pcoe/prognostic-data-repository/#turbofan)\n",
    "\n",
    "![title](image/engine.png)\n",
    "\n",
    "<center>\n",
    "<a href=https://ntrs.nasa.gov/citations/20070034949>Simplified diagram of engine simulated in C-MAPSS</a>\n",
    "</center>\n",
    "\n",
    "This data set is simulated by the tool Commercial Modular Aero Propulsion System Simulation (C-MAPSS) developed by NASA. Run-to-failure simulations were performed for engines with varying degrees of initial wear but in a healthy state. During each cycle in the simulation, one sample of all 21 sensors such as the physical core speed, the temperature at fan inlet and the pressure at fan inlet etc. will be recorded once. As the simulation progresses, the performance of the turbofan\n",
    "engine degrades until it loses functionality. C-MAPSS data consists of four sub-data sets with different operational conditions and fault patterns as shown below.\n",
    "\n",
    "| Data Set | Train trajectories | Test trajectories | Conditions      | Fault Mode                             |\n",
    "|----------|:-----------------:|------------------:|-----------------|----------------------------------------|\n",
    "| FD001    |        100        |               100 | ONE (Sea Level) | ONE (HPC Degradation)                  |\n",
    "| FD002    |        260        |               259 | SIX             | ONE (HPC Degradation)                  |\n",
    "| FD003    |        100        |               100 | ONE (Sea Level) | TWO (HPC Degradation, Fan Degradation) |\n",
    "| FD004    |        248        |               249 | SIX             | TWO (HPC Degradation, Fan Degradation) |\n",
    "\n",
    "\n",
    "Each sub-data set has been split into a training set and a test set. The training sets contain sensor records for all cycles in the run-to-failure simulation. Unlike the training sets, the test sets only contain partial temporal sensor records which stopped at a time prior to the failure. The task is to predict the RUL of each engine in the test sets by using the training sets with the given sensor records. The corresponding RUL to test sets has been provided. With this, the performance of the model can be verified. It should be noted that the four sub-data sets are of varying complexity.\n",
    "\n",
    "\n",
    "26 columns are listed as below\n",
    "\n",
    "| Column| Description | Units | \n",
    "|----------|:-----------------:|------------------:|\n",
    "| 1    |        unit number        |   --   |\n",
    "| 2    |        time, in cycles        |     --   |\n",
    "| 3    |        operational setting 1        |  --   | \n",
    "| 4    |        operational setting 2        |  --   |           \n",
    "| 5    |        operational setting 3        |  --   |         \n",
    "| 6    | Total temperature at fan inlet  | °R    |  \n",
    "| 7    | Total temperature at LPC outlet  | °R    |  \n",
    "| 8    | Total temperature at HPC outlet  | °R    |  \n",
    "| 9    | Total temperature at LPT outlet  | °R    |  \n",
    "| 10    | Pressure at fan inlet  | psia    |  \n",
    "| 11    | Total pressure in bypass-duct  | psia   |   \n",
    "| 12    | Total pressure at HPC outlet  | psia    |  \n",
    "| 13    | Physical fan speed  | rpm    |  \n",
    "| 14    | Physical core speed  | rpm    |  \n",
    "| 15    | Engine pressure ratio (P50/P2)  | --    |  \n",
    "| 16    | Static pressure at HPC outlet  | psia    |  \n",
    "| 17    | Ratio of fuel flow to Ps30  | pps/psi   |  \n",
    "| 18     |Corrected fan speed  | rpm    |  \n",
    "| 19    | Corrected core speed  | rpm    |  \n",
    "| 20    | Bypass Ratio  | --    |  \n",
    "| 21    | Burner fuel-air ratio  | --    |  \n",
    "| 22    | Bleed Enthalpy  | --   |  \n",
    "| 23   | Demanded fan speed | rpm  |\n",
    "| 24   | Demanded corrected fan speed | rpm  |\n",
    "| 25   | HPT coolant bleed | lbm/s  |\n",
    "| 26   | LPT coolant bleed | lbm/s |"
   ]
  },
  {
   "cell_type": "markdown",
   "metadata": {},
   "source": [
    "# import packages"
   ]
  },
  {
   "cell_type": "code",
   "execution_count": 24,
   "metadata": {},
   "outputs": [],
   "source": [
    "import warnings \n",
    "warnings.filterwarnings(\"ignore\")\n",
    "import pandas as pd\n",
    "import matplotlib.pyplot as plt\n",
    "import numpy as np\n",
    "import tensorflow as tf\n",
    "import time\n",
    "from utilities import *\n",
    "from sklearn.metrics import mean_squared_error\n",
    "\n",
    "from ECLSTM import ECLSTM1D,check_the_config_valid,build_the_model\n",
    "from tensorflow.keras.models import Sequential\n",
    "from tensorflow.keras.layers import Dense,Flatten,TimeDistributed,LSTM\n",
    "import tensorflow.keras.callbacks as callback\n",
    "pd.set_option('max_columns',1000)\n",
    "pd.set_option('max_row',300)\n",
    "pd.set_option('display.float_format', lambda x: '%.5f' % x)\n",
    "\n",
    "plt.rcParams['axes.labelsize'] = 16\n",
    "plt.rcParams['axes.titlesize'] = 16"
   ]
  },
  {
   "cell_type": "markdown",
   "metadata": {},
   "source": [
    "# DATA PREPARATION\n",
    "## Load the training data and test data"
   ]
  },
  {
   "cell_type": "code",
   "execution_count": 25,
   "metadata": {},
   "outputs": [],
   "source": [
    "# For simplicity, each column is named with S (sensor) + number\n",
    "column_name = ['engine_id', 'cycle', 'setting1', 'setting2', 'setting3', 's1', 's2', 's3',\n",
    "               's4', 's5', 's6', 's7', 's8', 's9', 's10', 's11', 's12', 's13', 's14',\n",
    "               's15', 's16', 's17', 's18', 's19', 's20', 's21']\n",
    "\n",
    "\n",
    "\n",
    "# Data_id can be defined as FD001, FD002, FD003 and FD004\n",
    "Data_id = \"FD004\"\n",
    "\n",
    "train_FD = pd.read_table(\"./data/C-MAPSS/train_{}.txt\".format(Data_id), header=None, delim_whitespace=True)\n",
    "train_FD.columns = column_name\n",
    "\n",
    "\n",
    "test_FD = pd.read_table(\"./data/C-MAPSS/test_{}.txt\".format(Data_id), header=None, delim_whitespace=True)\n",
    "test_FD.columns = column_name\n",
    "\n",
    "RUL_FD = pd.read_table(\"./data/C-MAPSS/RUL_{}.txt\".format(Data_id), header=None, delim_whitespace=True)"
   ]
  },
  {
   "cell_type": "code",
   "execution_count": 26,
   "metadata": {},
   "outputs": [
    {
     "data": {
      "text/html": [
       "<div>\n",
       "<style scoped>\n",
       "    .dataframe tbody tr th:only-of-type {\n",
       "        vertical-align: middle;\n",
       "    }\n",
       "\n",
       "    .dataframe tbody tr th {\n",
       "        vertical-align: top;\n",
       "    }\n",
       "\n",
       "    .dataframe thead th {\n",
       "        text-align: right;\n",
       "    }\n",
       "</style>\n",
       "<table border=\"1\" class=\"dataframe\">\n",
       "  <thead>\n",
       "    <tr style=\"text-align: right;\">\n",
       "      <th></th>\n",
       "      <th>engine_id</th>\n",
       "      <th>cycle</th>\n",
       "      <th>setting1</th>\n",
       "      <th>setting2</th>\n",
       "      <th>setting3</th>\n",
       "      <th>s1</th>\n",
       "      <th>s2</th>\n",
       "      <th>s3</th>\n",
       "      <th>s4</th>\n",
       "      <th>s5</th>\n",
       "      <th>s6</th>\n",
       "      <th>s7</th>\n",
       "      <th>s8</th>\n",
       "      <th>s9</th>\n",
       "      <th>s10</th>\n",
       "      <th>s11</th>\n",
       "      <th>s12</th>\n",
       "      <th>s13</th>\n",
       "      <th>s14</th>\n",
       "      <th>s15</th>\n",
       "      <th>s16</th>\n",
       "      <th>s17</th>\n",
       "      <th>s18</th>\n",
       "      <th>s19</th>\n",
       "      <th>s20</th>\n",
       "      <th>s21</th>\n",
       "    </tr>\n",
       "  </thead>\n",
       "  <tbody>\n",
       "    <tr>\n",
       "      <th>count</th>\n",
       "      <td>61249.00000</td>\n",
       "      <td>61249.00000</td>\n",
       "      <td>61249.00000</td>\n",
       "      <td>61249.00000</td>\n",
       "      <td>61249.00000</td>\n",
       "      <td>61249.00000</td>\n",
       "      <td>61249.00000</td>\n",
       "      <td>61249.00000</td>\n",
       "      <td>61249.00000</td>\n",
       "      <td>61249.00000</td>\n",
       "      <td>61249.00000</td>\n",
       "      <td>61249.00000</td>\n",
       "      <td>61249.00000</td>\n",
       "      <td>61249.00000</td>\n",
       "      <td>61249.00000</td>\n",
       "      <td>61249.00000</td>\n",
       "      <td>61249.00000</td>\n",
       "      <td>61249.00000</td>\n",
       "      <td>61249.00000</td>\n",
       "      <td>61249.00000</td>\n",
       "      <td>61249.00000</td>\n",
       "      <td>61249.00000</td>\n",
       "      <td>61249.00000</td>\n",
       "      <td>61249.00000</td>\n",
       "      <td>61249.00000</td>\n",
       "      <td>61249.00000</td>\n",
       "    </tr>\n",
       "    <tr>\n",
       "      <th>mean</th>\n",
       "      <td>124.32518</td>\n",
       "      <td>134.31142</td>\n",
       "      <td>23.99982</td>\n",
       "      <td>0.57135</td>\n",
       "      <td>94.03158</td>\n",
       "      <td>472.88244</td>\n",
       "      <td>579.42006</td>\n",
       "      <td>1417.89660</td>\n",
       "      <td>1201.91536</td>\n",
       "      <td>8.03163</td>\n",
       "      <td>11.58946</td>\n",
       "      <td>283.32863</td>\n",
       "      <td>2228.68603</td>\n",
       "      <td>8524.67330</td>\n",
       "      <td>1.09645</td>\n",
       "      <td>42.87453</td>\n",
       "      <td>266.73567</td>\n",
       "      <td>2334.42759</td>\n",
       "      <td>8067.81181</td>\n",
       "      <td>9.28560</td>\n",
       "      <td>0.02325</td>\n",
       "      <td>347.76003</td>\n",
       "      <td>2228.61328</td>\n",
       "      <td>97.75140</td>\n",
       "      <td>20.86433</td>\n",
       "      <td>12.51900</td>\n",
       "    </tr>\n",
       "    <tr>\n",
       "      <th>std</th>\n",
       "      <td>71.99535</td>\n",
       "      <td>89.78339</td>\n",
       "      <td>14.78072</td>\n",
       "      <td>0.31070</td>\n",
       "      <td>14.25195</td>\n",
       "      <td>26.43683</td>\n",
       "      <td>37.34265</td>\n",
       "      <td>106.16760</td>\n",
       "      <td>119.32759</td>\n",
       "      <td>3.62287</td>\n",
       "      <td>5.44402</td>\n",
       "      <td>146.88021</td>\n",
       "      <td>145.34824</td>\n",
       "      <td>336.92755</td>\n",
       "      <td>0.12768</td>\n",
       "      <td>3.24349</td>\n",
       "      <td>138.47911</td>\n",
       "      <td>128.19786</td>\n",
       "      <td>85.67054</td>\n",
       "      <td>0.75037</td>\n",
       "      <td>0.00468</td>\n",
       "      <td>27.80828</td>\n",
       "      <td>145.47249</td>\n",
       "      <td>5.36942</td>\n",
       "      <td>9.93640</td>\n",
       "      <td>5.96270</td>\n",
       "    </tr>\n",
       "    <tr>\n",
       "      <th>min</th>\n",
       "      <td>1.00000</td>\n",
       "      <td>1.00000</td>\n",
       "      <td>0.00000</td>\n",
       "      <td>0.00000</td>\n",
       "      <td>60.00000</td>\n",
       "      <td>445.00000</td>\n",
       "      <td>535.48000</td>\n",
       "      <td>1242.67000</td>\n",
       "      <td>1024.42000</td>\n",
       "      <td>3.91000</td>\n",
       "      <td>5.67000</td>\n",
       "      <td>136.17000</td>\n",
       "      <td>1914.72000</td>\n",
       "      <td>7984.51000</td>\n",
       "      <td>0.93000</td>\n",
       "      <td>36.04000</td>\n",
       "      <td>128.31000</td>\n",
       "      <td>2027.57000</td>\n",
       "      <td>7845.78000</td>\n",
       "      <td>8.17570</td>\n",
       "      <td>0.02000</td>\n",
       "      <td>302.00000</td>\n",
       "      <td>1915.00000</td>\n",
       "      <td>84.93000</td>\n",
       "      <td>10.16000</td>\n",
       "      <td>6.08430</td>\n",
       "    </tr>\n",
       "    <tr>\n",
       "      <th>25%</th>\n",
       "      <td>60.00000</td>\n",
       "      <td>62.00000</td>\n",
       "      <td>10.00460</td>\n",
       "      <td>0.25070</td>\n",
       "      <td>100.00000</td>\n",
       "      <td>445.00000</td>\n",
       "      <td>549.33000</td>\n",
       "      <td>1350.55000</td>\n",
       "      <td>1119.49000</td>\n",
       "      <td>3.91000</td>\n",
       "      <td>5.72000</td>\n",
       "      <td>142.92000</td>\n",
       "      <td>2211.95000</td>\n",
       "      <td>8320.59000</td>\n",
       "      <td>1.02000</td>\n",
       "      <td>41.76000</td>\n",
       "      <td>134.52000</td>\n",
       "      <td>2387.91000</td>\n",
       "      <td>8062.63000</td>\n",
       "      <td>8.64800</td>\n",
       "      <td>0.02000</td>\n",
       "      <td>330.00000</td>\n",
       "      <td>2212.00000</td>\n",
       "      <td>100.00000</td>\n",
       "      <td>10.94000</td>\n",
       "      <td>6.56610</td>\n",
       "    </tr>\n",
       "    <tr>\n",
       "      <th>50%</th>\n",
       "      <td>126.00000</td>\n",
       "      <td>123.00000</td>\n",
       "      <td>25.00140</td>\n",
       "      <td>0.70000</td>\n",
       "      <td>100.00000</td>\n",
       "      <td>462.54000</td>\n",
       "      <td>555.74000</td>\n",
       "      <td>1367.68000</td>\n",
       "      <td>1136.92000</td>\n",
       "      <td>7.05000</td>\n",
       "      <td>9.03000</td>\n",
       "      <td>194.96000</td>\n",
       "      <td>2223.07000</td>\n",
       "      <td>8362.76000</td>\n",
       "      <td>1.03000</td>\n",
       "      <td>42.33000</td>\n",
       "      <td>183.45000</td>\n",
       "      <td>2388.06000</td>\n",
       "      <td>8083.81000</td>\n",
       "      <td>9.25560</td>\n",
       "      <td>0.02000</td>\n",
       "      <td>334.00000</td>\n",
       "      <td>2223.00000</td>\n",
       "      <td>100.00000</td>\n",
       "      <td>14.93000</td>\n",
       "      <td>8.96010</td>\n",
       "    </tr>\n",
       "    <tr>\n",
       "      <th>75%</th>\n",
       "      <td>185.00000</td>\n",
       "      <td>191.00000</td>\n",
       "      <td>41.99810</td>\n",
       "      <td>0.84000</td>\n",
       "      <td>100.00000</td>\n",
       "      <td>491.19000</td>\n",
       "      <td>607.07000</td>\n",
       "      <td>1497.42000</td>\n",
       "      <td>1302.62000</td>\n",
       "      <td>10.52000</td>\n",
       "      <td>15.48000</td>\n",
       "      <td>394.28000</td>\n",
       "      <td>2323.93000</td>\n",
       "      <td>8777.25000</td>\n",
       "      <td>1.26000</td>\n",
       "      <td>45.22000</td>\n",
       "      <td>371.40000</td>\n",
       "      <td>2388.17000</td>\n",
       "      <td>8128.35000</td>\n",
       "      <td>9.36580</td>\n",
       "      <td>0.03000</td>\n",
       "      <td>368.00000</td>\n",
       "      <td>2324.00000</td>\n",
       "      <td>100.00000</td>\n",
       "      <td>28.56000</td>\n",
       "      <td>17.13550</td>\n",
       "    </tr>\n",
       "    <tr>\n",
       "      <th>max</th>\n",
       "      <td>249.00000</td>\n",
       "      <td>543.00000</td>\n",
       "      <td>42.00800</td>\n",
       "      <td>0.84200</td>\n",
       "      <td>100.00000</td>\n",
       "      <td>518.67000</td>\n",
       "      <td>644.42000</td>\n",
       "      <td>1613.00000</td>\n",
       "      <td>1440.77000</td>\n",
       "      <td>14.62000</td>\n",
       "      <td>21.61000</td>\n",
       "      <td>570.81000</td>\n",
       "      <td>2388.64000</td>\n",
       "      <td>9196.81000</td>\n",
       "      <td>1.32000</td>\n",
       "      <td>48.36000</td>\n",
       "      <td>537.49000</td>\n",
       "      <td>2390.49000</td>\n",
       "      <td>8261.65000</td>\n",
       "      <td>11.06630</td>\n",
       "      <td>0.03000</td>\n",
       "      <td>399.00000</td>\n",
       "      <td>2388.00000</td>\n",
       "      <td>100.00000</td>\n",
       "      <td>39.89000</td>\n",
       "      <td>23.88520</td>\n",
       "    </tr>\n",
       "  </tbody>\n",
       "</table>\n",
       "</div>"
      ],
      "text/plain": [
       "        engine_id       cycle    setting1    setting2    setting3          s1  \\\n",
       "count 61249.00000 61249.00000 61249.00000 61249.00000 61249.00000 61249.00000   \n",
       "mean    124.32518   134.31142    23.99982     0.57135    94.03158   472.88244   \n",
       "std      71.99535    89.78339    14.78072     0.31070    14.25195    26.43683   \n",
       "min       1.00000     1.00000     0.00000     0.00000    60.00000   445.00000   \n",
       "25%      60.00000    62.00000    10.00460     0.25070   100.00000   445.00000   \n",
       "50%     126.00000   123.00000    25.00140     0.70000   100.00000   462.54000   \n",
       "75%     185.00000   191.00000    41.99810     0.84000   100.00000   491.19000   \n",
       "max     249.00000   543.00000    42.00800     0.84200   100.00000   518.67000   \n",
       "\n",
       "               s2          s3          s4          s5          s6          s7  \\\n",
       "count 61249.00000 61249.00000 61249.00000 61249.00000 61249.00000 61249.00000   \n",
       "mean    579.42006  1417.89660  1201.91536     8.03163    11.58946   283.32863   \n",
       "std      37.34265   106.16760   119.32759     3.62287     5.44402   146.88021   \n",
       "min     535.48000  1242.67000  1024.42000     3.91000     5.67000   136.17000   \n",
       "25%     549.33000  1350.55000  1119.49000     3.91000     5.72000   142.92000   \n",
       "50%     555.74000  1367.68000  1136.92000     7.05000     9.03000   194.96000   \n",
       "75%     607.07000  1497.42000  1302.62000    10.52000    15.48000   394.28000   \n",
       "max     644.42000  1613.00000  1440.77000    14.62000    21.61000   570.81000   \n",
       "\n",
       "               s8          s9         s10         s11         s12         s13  \\\n",
       "count 61249.00000 61249.00000 61249.00000 61249.00000 61249.00000 61249.00000   \n",
       "mean   2228.68603  8524.67330     1.09645    42.87453   266.73567  2334.42759   \n",
       "std     145.34824   336.92755     0.12768     3.24349   138.47911   128.19786   \n",
       "min    1914.72000  7984.51000     0.93000    36.04000   128.31000  2027.57000   \n",
       "25%    2211.95000  8320.59000     1.02000    41.76000   134.52000  2387.91000   \n",
       "50%    2223.07000  8362.76000     1.03000    42.33000   183.45000  2388.06000   \n",
       "75%    2323.93000  8777.25000     1.26000    45.22000   371.40000  2388.17000   \n",
       "max    2388.64000  9196.81000     1.32000    48.36000   537.49000  2390.49000   \n",
       "\n",
       "              s14         s15         s16         s17         s18         s19  \\\n",
       "count 61249.00000 61249.00000 61249.00000 61249.00000 61249.00000 61249.00000   \n",
       "mean   8067.81181     9.28560     0.02325   347.76003  2228.61328    97.75140   \n",
       "std      85.67054     0.75037     0.00468    27.80828   145.47249     5.36942   \n",
       "min    7845.78000     8.17570     0.02000   302.00000  1915.00000    84.93000   \n",
       "25%    8062.63000     8.64800     0.02000   330.00000  2212.00000   100.00000   \n",
       "50%    8083.81000     9.25560     0.02000   334.00000  2223.00000   100.00000   \n",
       "75%    8128.35000     9.36580     0.03000   368.00000  2324.00000   100.00000   \n",
       "max    8261.65000    11.06630     0.03000   399.00000  2388.00000   100.00000   \n",
       "\n",
       "              s20         s21  \n",
       "count 61249.00000 61249.00000  \n",
       "mean     20.86433    12.51900  \n",
       "std       9.93640     5.96270  \n",
       "min      10.16000     6.08430  \n",
       "25%      10.94000     6.56610  \n",
       "50%      14.93000     8.96010  \n",
       "75%      28.56000    17.13550  \n",
       "max      39.89000    23.88520  "
      ]
     },
     "execution_count": 26,
     "metadata": {},
     "output_type": "execute_result"
    }
   ],
   "source": [
    "train_FD.describe()"
   ]
  },
  {
   "cell_type": "markdown",
   "metadata": {},
   "source": [
    "# Compute the remaining useful life"
   ]
  },
  {
   "cell_type": "markdown",
   "metadata": {},
   "source": [
    "### RUL for Training dataset"
   ]
  },
  {
   "cell_type": "markdown",
   "metadata": {},
   "source": [
    "Here, we use the piecewise linear degradation model as the target function in the estimation process. \n",
    "The degradation of the system typically starts after a certain degree of usage, and hence, we consider this model to be more suited compared to the linear degradation model. [1](https://arxiv.org/abs/1810.05644)\n",
    "![title](image/piecewise.png)"
   ]
  },
  {
   "cell_type": "code",
   "execution_count": 27,
   "metadata": {},
   "outputs": [],
   "source": [
    "# piecewise linear RUL  Maximal life is defined as 120\n",
    "\n",
    "id='engine_id'\n",
    "MAXLIFE = 120 \n",
    "rul = [] \n",
    "for _id in set(train_FD[id]):\n",
    "    trainFD_of_one_id =  train_FD[train_FD[id] == _id]\n",
    "    cycle_list = trainFD_of_one_id['cycle'].tolist()\n",
    "    max_cycle = max(cycle_list)\n",
    "\n",
    "    knee_point = max_cycle - MAXLIFE\n",
    "    kink_RUL = []\n",
    "    for i in range(0, len(cycle_list)):\n",
    "        # \n",
    "        if i < knee_point:\n",
    "            kink_RUL.append(MAXLIFE)\n",
    "        else:\n",
    "            tmp = max_cycle-i-1\n",
    "            kink_RUL.append(tmp)\n",
    "    rul.extend(kink_RUL)\n",
    "\n",
    "train_FD[\"RUL\"] = rul"
   ]
  },
  {
   "cell_type": "markdown",
   "metadata": {},
   "source": [
    "### RUL for test dataset"
   ]
  },
  {
   "cell_type": "code",
   "execution_count": 28,
   "metadata": {},
   "outputs": [],
   "source": [
    "id='engine_id'\n",
    "rul = []\n",
    "for _id_test in set(test_FD[id]):\n",
    "    true_rul = int(RUL_FD.iloc[_id_test - 1])\n",
    "    testFD_of_one_id =  test_FD[test_FD[id] == _id_test]\n",
    "    cycle_list = testFD_of_one_id['cycle'].tolist()\n",
    "    max_cycle = max(cycle_list) + true_rul\n",
    "    knee_point = max_cycle - MAXLIFE\n",
    "    kink_RUL = []\n",
    "    for i in range(0, len(cycle_list)):\n",
    "        if i < knee_point:\n",
    "            kink_RUL.append(MAXLIFE)\n",
    "        else:\n",
    "            tmp = max_cycle-i-1\n",
    "            kink_RUL.append(tmp)    \n",
    "\n",
    "    rul.extend(kink_RUL)\n",
    "\n",
    "test_FD[\"RUL\"] = rul"
   ]
  },
  {
   "cell_type": "markdown",
   "metadata": {},
   "source": [
    "# Feature extention\n",
    "\n",
    "    Remove features that have only unique value\n",
    "    \n",
    "    Use correlation test methods (Significance test) to exclude features that are not related to the target variable"
   ]
  },
  {
   "cell_type": "code",
   "execution_count": 29,
   "metadata": {},
   "outputs": [],
   "source": [
    "col_to_drop = identify_and_remove_unique_columns(train_FD)"
   ]
  },
  {
   "cell_type": "code",
   "execution_count": 30,
   "metadata": {},
   "outputs": [],
   "source": [
    "train_FD = train_FD.drop(col_to_drop,axis = 1)"
   ]
  },
  {
   "cell_type": "code",
   "execution_count": 31,
   "metadata": {},
   "outputs": [],
   "source": [
    "test_FD = test_FD.drop(col_to_drop,axis = 1)"
   ]
  },
  {
   "cell_type": "markdown",
   "metadata": {},
   "source": [
    "## Normalization "
   ]
  },
  {
   "cell_type": "code",
   "execution_count": 32,
   "metadata": {},
   "outputs": [],
   "source": [
    "mean_of_train = train_FD.iloc[:, 2:-1].mean()\n",
    "std_of_train = train_FD.iloc[:, 2:-1].std()\n",
    "std_of_train.replace(0, 1, inplace=True)\n",
    "\n",
    "\n",
    "# training dataset\n",
    "train_FD.iloc[:, 2:-1] = (train_FD.iloc[:, 2:-1] - mean_of_train) / std_of_train\n",
    "\n",
    "# Testing dataset\n",
    "test_FD.iloc[:, 2:-1] = (test_FD.iloc[:, 2:-1] - mean_of_train) / std_of_train"
   ]
  },
  {
   "cell_type": "markdown",
   "metadata": {},
   "source": [
    "### plot a figure"
   ]
  },
  {
   "cell_type": "code",
   "execution_count": 33,
   "metadata": {},
   "outputs": [
    {
     "data": {
      "image/png": "[encoded data removed]",
      "text/plain": [
       "<Figure size 1080x144 with 1 Axes>"
      ]
     },
     "metadata": {
      "needs_background": "light"
     },
     "output_type": "display_data"
    },
    {
     "data": {
      "image/png": "[encoded data removed]",
      "text/plain": [
       "<Figure size 1080x144 with 1 Axes>"
      ]
     },
     "metadata": {
      "needs_background": "light"
     },
     "output_type": "display_data"
    },
    {
     "data": {
      "image/png": "[encoded data removed]",
      "text/plain": [
       "<Figure size 1080x144 with 1 Axes>"
      ]
     },
     "metadata": {
      "needs_background": "light"
     },
     "output_type": "display_data"
    }
   ],
   "source": [
    "training_data = train_FD.values\n",
    "testing_data = test_FD.values\n",
    "\n",
    "x_train = training_data[:, 2:-1]\n",
    "y_train = training_data[:, -1]\n",
    "# print(\"training\", x_train.shape, y_train.shape)\n",
    "\n",
    "x_test = testing_data[:, 2:-1]\n",
    "y_test = testing_data[:, -1]\n",
    "# print(\"testing\", x_test.shape, y_test.shape)\n",
    "\n",
    "plt.figure(figsize=(15,2))\n",
    "plt.plot(y_train[:500], label=\"RUL of training dataset\")\n",
    "plt.ylabel(\"RUL\")\n",
    "plt.xlabel(\"Time step\")\n",
    "plt.legend()\n",
    "plt.figure(figsize=(15,2))\n",
    "\n",
    "plt.plot(y_test[:500], label=\"RUL of test dataset\")\n",
    "plt.ylabel(\"RUL\")\n",
    "plt.xlabel(\"Time step\")\n",
    "plt.legend()\n",
    "\n",
    "plt.figure(figsize=(15,2))\n",
    "plt.plot(x_train[:500], label=\"All sensor values from training dataset\")\n",
    "plt.ylabel(\"Value\")\n",
    "plt.xlabel(\"Time step\")\n",
    "\n",
    "\n",
    "plt.show()"
   ]
  },
  {
   "cell_type": "markdown",
   "metadata": {},
   "source": [
    "# Data Batch generation\n",
    "    \n",
    "Data generation with sliding window method\n",
    "![title](image/sliding.png)\n",
    "\n",
    "Before training data can be generated, two parameters need to be defined\n",
    "\n",
    "**sequence length** defines the number of steps the window moves\n",
    "\n",
    "**Window size** defines the number of time steps included in the window\n",
    "\n",
    "In the figure above, the window size is 4, which has moved one step\n",
    "\n",
    "**These two hyper-parameters need to be optimized**\n"
   ]
  },
  {
   "cell_type": "code",
   "execution_count": 34,
   "metadata": {},
   "outputs": [],
   "source": [
    "sequence_length=5\n",
    "window_size = 16\n",
    "# Prepare the training set according to the  window size and sequence_length\n",
    "\n",
    "x_batch, y_batch =batch_generator(train_FD,sequence_length=sequence_length,window_size = window_size)\n",
    "\n",
    "x_batch = np.expand_dims(x_batch, axis=4)\n",
    "y_batch = np.expand_dims(y_batch, axis=2)\n",
    "\n",
    "feature = x_batch.shape[3] # number of used sensors\n"
   ]
  },
  {
   "cell_type": "markdown",
   "metadata": {},
   "source": [
    "# Model"
   ]
  },
  {
   "cell_type": "markdown",
   "metadata": {},
   "source": [
    "One neural network model, called FCLSTM, was taken from [[3]](https://ieeexplore.ieee.org/document/7998311), which is often cited as a baseline by other related works on this dataset. We also chose it as a baseline for comparison.\n",
    "\n",
    "The network (named as FCLSTM) in work [[3]](https://ieeexplore.ieee.org/document/7998311) has a five-layer architecture. \n",
    "   - The first layer is a LSTM layer with 32 hidden nodes. \n",
    "   - The second layer is the same, but contains 64 hidden nodes. \n",
    "   - The third and fourth layers are forward fully connected layers, each with 8 hidden nodes. \n",
    "   - The last layer is a 1-dimensional output layer which predicts the RUL.\n",
    "\n",
    "The following table shows how the performance of FCLSTM on this data. Evaluation Metric is RMSE. Note that the window size was set as **one** in the original paper.\n",
    "\n",
    "| Data Set | FD001 | FD002 | FD003      | FD001                             |\n",
    "|:----------:|:-------:|:----------:|:-----------:|:----------------:|\n",
    "| MLP [[2]](https://link.springer.com/chapter/10.1007/978-3-319-32025-0_14)   |  37.56   |  80.03 | 37.39 | 77.37    |\n",
    "| SVR [[2]](https://link.springer.com/chapter/10.1007/978-3-319-32025-0_14)   |  20.96   |  42.00 | 21.05 | 45.35    |\n",
    "| RVR  [[2]](https://link.springer.com/chapter/10.1007/978-3-319-32025-0_14)  |  23.80   |  31.30 | 22.37 | 34.34 |\n",
    "| CNN  [[2]](https://link.springer.com/chapter/10.1007/978-3-319-32025-0_14)  |  18.45   |  30.29 | 19.82 | 29.16 |\n",
    "| FCLSTM  [[3]](https://ieeexplore.ieee.org/document/7998311)   | **16.14**|  **24.49** | **16.18**  |**28.17**|\n",
    "\n",
    "\n",
    "\n",
    "\n",
    "To validate whether the ECLSTM can improve performance, We applied a similar structure to the former. The difference from the former network is that the first and second layers are replaced by 2-depth-ECLSTM layer. The hyper-parameters (convolution kernel size and filters number) in ECLSTM layers are determined by simple rules. They are not optimized.\n",
    "\n",
    "The model (named as ECLSTM) has also a five-layer architecture. \n",
    "- The first layer is a ECLSTM layer with 10 filters, and the kernel size is 3.\n",
    "- The second layer is a ECLSTM layer with 10 filters, and the kernel size is 3.\n",
    "- The third and fourth layers are forward fully connected layers, each with 8 hidden nodes. \n",
    "- The last layer is a 1-dimensional output layer which predicts the RUL."
   ]
  },
  {
   "cell_type": "code",
   "execution_count": 35,
   "metadata": {},
   "outputs": [],
   "source": [
    "# specify the achtecture parameters\n",
    "#  This Model consists of three parts, namely the pre-processing, feature extraction and RUL prediction parts.\n",
    "para = {\n",
    "    # preprocessing part\n",
    "    #   If the number of layers (preprocessing_layers) is defined as 0, it means that no pre-processing is performed\n",
    "    \"preprocessing_layers\" : 0,\n",
    "    \"pre_kernel_width\" : 3,\n",
    "    \"pre_number_filters\" : 10,\n",
    "    \"pre_strides\" : 2,\n",
    "    \"pre_activation\" : \"relu\",\n",
    "\n",
    "\n",
    "    # ECLSTM feature extraction part\n",
    "    # here shows 2 depth ECLSTM\n",
    "    \"eclstm_1_recurrent_activation\" : ['linear',\"hard_sigmoid\"],\n",
    "    \"eclstm_1_conv_activation\" : ['hard_sigmoid',\"hard_sigmoid\"],\n",
    "    \"eclstm_1_kernel_width\" : [3,3],\n",
    "    \"eclstm_1_number_filters\" : [10,10],\n",
    "    \"eclstm_1_strides\" : 1,\n",
    "    \"eclstm_1_fusion\":[\"early\",\"early\"],\n",
    "    \n",
    "    \"eclstm_2_recurrent_activation\" : ['linear',\"hard_sigmoid\"],\n",
    "    \"eclstm_2_conv_activation\" : ['hard_sigmoid',\"hard_sigmoid\"],\n",
    "    \"eclstm_2_kernel_width\" : [3,3],\n",
    "    \"eclstm_2_number_filters\" : [10,10],\n",
    "    \"eclstm_2_strides\" : 1,\n",
    "    \"eclstm_2_fusion\":[\"early\",\"early\"],\n",
    "\n",
    "    \"eclstm_3_recurrent_activation\" : [None],\n",
    "    \"eclstm_3_conv_activation\" : [None],\n",
    "    \"eclstm_3_kernel_width\" : [None],\n",
    "    \"eclstm_3_number_filters\" : [None],\n",
    "    \"eclstm_3_strides\" : None,\n",
    "    \"eclstm_3_fusion\":[None],\n",
    "\n",
    "    \"eclstm_4_recurrent_activation\" : [None],\n",
    "    \"eclstm_4_conv_activation\" : [None],\n",
    "    \"eclstm_4_kernel_width\" : [None],\n",
    "    \"eclstm_4_number_filters\" : [None],\n",
    "    \"eclstm_4_strides\" : None,\n",
    "    \"eclstm_4_fusion\":[None],\n",
    "\n",
    "    # Prediction\n",
    "    \"prediction_1_filters\" : 8,\n",
    "    \"prediction_1_activation\" : \"relu\",\n",
    "    \n",
    "    \"prediction_2_filters\" : 8,\n",
    "    \"prediction_2_activation\" : \"relu\",\n",
    "    \n",
    "    \"prediction_3_filters\" : 0,\n",
    "    \"prediction_3_activation\" : None,\n",
    "    \n",
    "    \"prediction_4_filters\" : 0,\n",
    "    \"prediction_4_activation\" : None,\n",
    "}"
   ]
  },
  {
   "cell_type": "code",
   "execution_count": 36,
   "metadata": {},
   "outputs": [],
   "source": [
    "# All padding in the convolution in the model is set to valid, which can cause illegal operations \n",
    "# if the kernel size, strides are too large\n",
    "valid_flag = check_the_config_valid(para, window_size,feature)    "
   ]
  },
  {
   "cell_type": "code",
   "execution_count": 37,
   "metadata": {},
   "outputs": [
    {
     "name": "stdout",
     "output_type": "stream",
     "text": [
      "Model: \"sequential_1\"\n",
      "_________________________________________________________________\n",
      "Layer (type)                 Output Shape              Param #   \n",
      "=================================================================\n",
      "eclst_m1d_2 (ECLSTM1D)       (None, 5, 12, 1, 10)      6020      \n",
      "_________________________________________________________________\n",
      "batch_normalization_2 (Batch (None, 5, 12, 1, 10)      40        \n",
      "_________________________________________________________________\n",
      "eclst_m1d_3 (ECLSTM1D)       (None, 8, 1, 10)          5180      \n",
      "_________________________________________________________________\n",
      "batch_normalization_3 (Batch (None, 8, 1, 10)          40        \n",
      "_________________________________________________________________\n",
      "flatten_1 (Flatten)          (None, 80)                0         \n",
      "_________________________________________________________________\n",
      "dense_3 (Dense)              (None, 8)                 648       \n",
      "_________________________________________________________________\n",
      "dense_4 (Dense)              (None, 8)                 72        \n",
      "_________________________________________________________________\n",
      "dense_5 (Dense)              (None, 1)                 9         \n",
      "=================================================================\n",
      "Total params: 12,009\n",
      "Trainable params: 11,969\n",
      "Non-trainable params: 40\n",
      "_________________________________________________________________\n",
      "None\n"
     ]
    }
   ],
   "source": [
    "ECLSTM_model = build_the_model(para, sequence_length, window_size, feature)\n",
    "input_ = keras.layers.Input(shape=(sequence_length, window_size, feature,1))\n",
    "output_ = ECLSTM_model(input_)\n",
    "print(ECLSTM_model.summary())"
   ]
  },
  {
   "cell_type": "code",
   "execution_count": 38,
   "metadata": {
    "scrolled": true
   },
   "outputs": [
    {
     "name": "stdout",
     "output_type": "stream",
     "text": [
      "Train on 52279 samples, validate on 4239 samples\n",
      "Epoch 1/20\n",
      "52279/52279 [==============================] - 126s 2ms/sample - loss: 786.9833 - val_loss: 516.0271\n",
      "Epoch 2/20\n",
      "52279/52279 [==============================] - 121s 2ms/sample - loss: 451.6268 - val_loss: 1269.2656\n",
      "Epoch 3/20\n",
      "52279/52279 [==============================] - 119s 2ms/sample - loss: 423.6102 - val_loss: 1431.5643\n",
      "Epoch 4/20\n",
      "52279/52279 [==============================] - 119s 2ms/sample - loss: 404.9991 - val_loss: 447.0276\n",
      "Epoch 5/20\n",
      "52279/52279 [==============================] - 119s 2ms/sample - loss: 393.4501 - val_loss: 721.1560\n",
      "Epoch 6/20\n",
      "52279/52279 [==============================] - 119s 2ms/sample - loss: 373.7842 - val_loss: 429.1485\n",
      "Epoch 7/20\n",
      "52279/52279 [==============================] - 119s 2ms/sample - loss: 349.7446 - val_loss: 406.1904\n",
      "Epoch 8/20\n",
      "52279/52279 [==============================] - 119s 2ms/sample - loss: 335.5538 - val_loss: 370.3029\n",
      "Epoch 9/20\n",
      "52279/52279 [==============================] - 118s 2ms/sample - loss: 327.4995 - val_loss: 398.6969\n",
      "Epoch 10/20\n",
      "52279/52279 [==============================] - 119s 2ms/sample - loss: 320.2241 - val_loss: 348.8098\n",
      "Epoch 11/20\n",
      "52279/52279 [==============================] - 118s 2ms/sample - loss: 313.8799 - val_loss: 372.1147\n",
      "Epoch 12/20\n",
      "52279/52279 [==============================] - 118s 2ms/sample - loss: 309.0080 - val_loss: 372.5240\n",
      "Epoch 13/20\n",
      "52279/52279 [==============================] - 118s 2ms/sample - loss: 301.3653 - val_loss: 467.1765\n",
      "Epoch 14/20\n",
      "52279/52279 [==============================] - 119s 2ms/sample - loss: 294.6626 - val_loss: 403.8647\n",
      "Epoch 15/20\n",
      "52279/52279 [==============================] - 123s 2ms/sample - loss: 287.7166 - val_loss: 369.1759\n",
      "Epoch 16/20\n",
      "52279/52279 [==============================] - 122s 2ms/sample - loss: 278.8415 - val_loss: 368.0817\n",
      "Epoch 17/20\n",
      "52279/52279 [==============================] - 124s 2ms/sample - loss: 269.9264 - val_loss: 405.7620\n",
      "Epoch 18/20\n",
      "52279/52279 [==============================] - 123s 2ms/sample - loss: 262.9774 - val_loss: 379.5588\n",
      "Epoch 19/20\n",
      "52279/52279 [==============================] - 126s 2ms/sample - loss: 253.6035 - val_loss: 389.6734\n",
      "Epoch 20/20\n",
      "52279/52279 [==============================] - 124s 2ms/sample - loss: 244.8764 - val_loss: 406.6293\n"
     ]
    },
    {
     "data": {
      "text/plain": [
       "<tensorflow.python.keras.callbacks.History at 0x24a85adecc0>"
      ]
     },
     "execution_count": 38,
     "metadata": {},
     "output_type": "execute_result"
    }
   ],
   "source": [
    "# if you have enough time budget, you can set a large epochs and large patience\n",
    "logging = callback.TensorBoard()\n",
    "EarlyStopping = tf.keras.callbacks.EarlyStopping(monitor='val_loss', patience=10,  mode='min')\n",
    "mcp_save = callback.ModelCheckpoint('best_model.h5', save_best_only=True, monitor='val_loss', mode='min')\n",
    "ECLSTM_model.fit(x_batch,y_batch, batch_size=15, epochs=20, callbacks=[EarlyStopping, mcp_save],validation_split=0.075)"
   ]
  },
  {
   "cell_type": "markdown",
   "metadata": {},
   "source": [
    "# Evaluation"
   ]
  },
  {
   "cell_type": "markdown",
   "metadata": {},
   "source": [
    "##  Performance on training dataset"
   ]
  },
  {
   "cell_type": "code",
   "execution_count": 39,
   "metadata": {},
   "outputs": [
    {
     "name": "stdout",
     "output_type": "stream",
     "text": [
      "The RMSE of ECLSTM_model on training dataset FD004 is 17.370271682739258.\n"
     ]
    }
   ],
   "source": [
    "y_batch_pred = ECLSTM_model.predict(x_batch)\n",
    "\n",
    "y_batch_pred = y_batch_pred.reshape(y_batch_pred.shape[0], y_batch_pred.shape[1])\n",
    "y_batch_reshape = y_batch.reshape(y_batch.shape[0], y_batch.shape[1])\n",
    "rmse_on_train = np.sqrt(mean_squared_error(y_batch_pred, y_batch_reshape))\n",
    "\n",
    "print(\"The RMSE of ECLSTM_model on training dataset {} is {}.\".format(Data_id,rmse_on_train))"
   ]
  },
  {
   "cell_type": "markdown",
   "metadata": {},
   "source": [
    "##  Performance on test dataset"
   ]
  },
  {
   "cell_type": "code",
   "execution_count": 40,
   "metadata": {},
   "outputs": [],
   "source": [
    "x_batch_test, y_batch_test =  test_batch_generator(test_FD, sequence_length=sequence_length,window_size = window_size)\n",
    "x_batch_test = np.expand_dims(x_batch_test, axis=4)"
   ]
  },
  {
   "cell_type": "code",
   "execution_count": 41,
   "metadata": {},
   "outputs": [
    {
     "name": "stdout",
     "output_type": "stream",
     "text": [
      "The RMSE on test dataset FD004 is 19.566816329956055.\n"
     ]
    }
   ],
   "source": [
    "ECLSTM_model.load_weights('best_model.h5')\n",
    "\n",
    "# reload trained model\n",
    "# ECLSTM_model.load_weights('trained_model/best_model_{}.h5'.format(Data_id))\n",
    "\n",
    "y_batch_pred_test = ECLSTM_model.predict(x_batch_test)\n",
    "rmse_on_test = np.sqrt(mean_squared_error(y_batch_pred_test, y_batch_test))\n",
    "print(\"The RMSE on test dataset {} is {}.\".format(Data_id,rmse_on_test))"
   ]
  },
  {
   "cell_type": "markdown",
   "metadata": {},
   "source": [
    "#### <font color=red>**This model is not optimized， But it has been able to achieve state of the art results on FD002 and FD004 dataset.  And the performance on FD001 and FD002 dataset is also better than the optimized traditional LSTM model.**</font>"
   ]
  },
  {
   "cell_type": "markdown",
   "metadata": {},
   "source": [
    "| Methods | FD001 | FD002 | FD003      | FD004       |\n",
    "|----------|:-----------------:|------------------:|-----------------|----------------------------------------|\n",
    "| DCNN   |   12.61   |  22.36   | 12.64 |  23.31  |\n",
    "| DAG   |   11.96   | 20.34  |   12.46  |  22.43 |   \n",
    "| AdaBN  |   **11.94**   |  19.29  |   **12.31**    |  22.14  | \n",
    "| not optimized Model  |   14.92  |  **17.11**  |  13.85    | **19.01** |     "
   ]
  },
  {
   "cell_type": "markdown",
   "metadata": {},
   "source": [
    "# potential"
   ]
  },
  {
   "cell_type": "markdown",
   "metadata": {},
   "source": [
    "\n",
    "\n",
    "* The model above is not optimized, If the model is optimized separately for each data set, the results will be better.\n",
    "\n",
    "    \n",
    "    \n",
    "* How to effectively set these hyperparameters? automated machine learning or Hyperparameter tuning\n",
    "\n"
   ]
  },
  {
   "cell_type": "code",
   "execution_count": null,
   "metadata": {},
   "outputs": [],
   "source": []
  },
  {
   "cell_type": "code",
   "execution_count": null,
   "metadata": {},
   "outputs": [],
   "source": []
  }
 ],
 "metadata": {
  "kernelspec": {
   "display_name": "Python 3",
   "language": "python",
   "name": "python3"
  },
  "language_info": {
   "codemirror_mode": {
    "name": "ipython",
    "version": 3
   },
   "file_extension": ".py",
   "mimetype": "text/x-python",
   "name": "python",
   "nbconvert_exporter": "python",
   "pygments_lexer": "ipython3",
   "version": "3.6.7"
  },
  "toc": {
   "base_numbering": 1,
   "nav_menu": {},
   "number_sections": true,
   "sideBar": true,
   "skip_h1_title": false,
   "title_cell": "Table of Contents",
   "title_sidebar": "Contents",
   "toc_cell": false,
   "toc_position": {},
   "toc_section_display": true,
   "toc_window_display": false
  }
 },
 "nbformat": 4,
 "nbformat_minor": 2
}
